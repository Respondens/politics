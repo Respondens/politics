{
 "cells": [
  {
   "cell_type": "code",
   "execution_count": 1,
   "metadata": {},
   "outputs": [],
   "source": [
    "import pandas as pd\n",
    "import datetime\n",
    "import config"
   ]
  },
  {
   "cell_type": "code",
   "execution_count": 2,
   "metadata": {},
   "outputs": [],
   "source": [
    "path_temp = config.PATH_TEMP_DATA\n",
    "path_visuals = config.PATH_VIZ\n",
    "path_source_data = config.PATH_SOURCE_DATA\n",
    "path_output_data = config.PATH_OUTPUT_DATA"
   ]
  },
  {
   "cell_type": "code",
   "execution_count": 3,
   "metadata": {},
   "outputs": [
    {
     "data": {
      "text/plain": [
       "8146"
      ]
     },
     "execution_count": 3,
     "metadata": {},
     "output_type": "execute_result"
    }
   ],
   "source": [
    "# get a all elections\n",
    "\n",
    "elections = pd.read_csv(path_source_data + 'view_election.csv')\n",
    "len(elections)"
   ]
  },
  {
   "cell_type": "code",
   "execution_count": 4,
   "metadata": {},
   "outputs": [
    {
     "data": {
      "text/plain": [
       "6736"
      ]
     },
     "execution_count": 4,
     "metadata": {},
     "output_type": "execute_result"
    }
   ],
   "source": [
    "# remove ep elections\n",
    "\n",
    "elections = elections[elections['election_type'] == 'parliament']\n",
    "len(elections)"
   ]
  },
  {
   "cell_type": "code",
   "execution_count": 5,
   "metadata": {},
   "outputs": [],
   "source": [
    "# extract election year\n",
    "\n",
    "elections['election_year'] = pd.to_datetime(elections['election_date']).dt.year"
   ]
  },
  {
   "cell_type": "code",
   "execution_count": 6,
   "metadata": {},
   "outputs": [],
   "source": [
    "# select necessary columns\n",
    "\n",
    "elections = elections[['country_name', \n",
    "                       'country_name_short', \n",
    "                       'vote_share', \n",
    "                       'seats', \n",
    "                       'party_id', \n",
    "                       'party_name', \n",
    "                       'party_name_english',\n",
    "                       'election_year']]"
   ]
  },
  {
   "cell_type": "code",
   "execution_count": 10,
   "metadata": {},
   "outputs": [
    {
     "data": {
      "text/plain": [
       "6733"
      ]
     },
     "execution_count": 10,
     "metadata": {},
     "output_type": "execute_result"
    }
   ],
   "source": [
    "# merge with party info to get party family names\n",
    "\n",
    "party = pd.read_csv(path_source_data + 'view_party.csv')\n",
    "party = party[['party_id', 'family_id', 'family_name', 'left_right', 'liberty_authority', 'eu_anti_pro']]\n",
    "df = pd.merge(elections, party, on='party_id', how='left')\n",
    "df = df.drop_duplicates()\n",
    "len(df)"
   ]
  },
  {
   "cell_type": "code",
   "execution_count": 11,
   "metadata": {},
   "outputs": [
    {
     "data": {
      "text/plain": [
       "4725"
      ]
     },
     "execution_count": 11,
     "metadata": {},
     "output_type": "execute_result"
    }
   ],
   "source": [
    "# remove non_eu members\n",
    "\n",
    "non_eu_members = ['Norway', 'Canada', 'Australia', 'Switzerland', 'New Zealand', 'Iceland', 'Japan',\n",
    "                 'Israel', 'Turkey']\n",
    "\n",
    "df = df[~df['country_name'].isin(non_eu_members)]\n",
    "len(df)"
   ]
  },
  {
   "cell_type": "code",
   "execution_count": 12,
   "metadata": {},
   "outputs": [],
   "source": [
    "# reshape data so that every year has values, not only election years\n",
    "\n",
    "df2 = df.pivot_table(index=['election_year'], \n",
    "                     columns=['country_name',\n",
    "                              'party_id', \n",
    "                              'family_name'], \n",
    "                     values=['seats', \n",
    "                             'vote_share', \n",
    "                             'left_right', \n",
    "                             'liberty_authority', \n",
    "                             'eu_anti_pro']).stack([1,2,3])\n"
   ]
  },
  {
   "cell_type": "code",
   "execution_count": 13,
   "metadata": {},
   "outputs": [],
   "source": [
    "# fill the NaNs\n",
    "\n",
    "df2 = df2.apply(lambda series: series.loc[:series.last_valid_index()].ffill())"
   ]
  },
  {
   "cell_type": "code",
   "execution_count": 21,
   "metadata": {},
   "outputs": [],
   "source": [
    "# try to find changes in number of parties per country\n",
    "\n",
    "df3 = df2.groupby(['election_year', 'country_name', 'party_id'])['vote_share'].mean()"
   ]
  },
  {
   "cell_type": "code",
   "execution_count": 23,
   "metadata": {},
   "outputs": [],
   "source": [
    "df3.to_csv(path_visuals + 'vis_v3.csv', header=True)"
   ]
  },
  {
   "cell_type": "code",
   "execution_count": 28,
   "metadata": {},
   "outputs": [],
   "source": [
    "df4 = df3.groupby(['election_year', 'country_name']).count()"
   ]
  },
  {
   "cell_type": "code",
   "execution_count": 29,
   "metadata": {},
   "outputs": [],
   "source": [
    "df4.to_csv(path_visuals + 'vis_v4.csv', header=True)"
   ]
  }
 ],
 "metadata": {
  "kernelspec": {
   "display_name": "Python 3",
   "language": "python",
   "name": "python3"
  },
  "language_info": {
   "codemirror_mode": {
    "name": "ipython",
    "version": 3
   },
   "file_extension": ".py",
   "mimetype": "text/x-python",
   "name": "python",
   "nbconvert_exporter": "python",
   "pygments_lexer": "ipython3",
   "version": "3.7.3"
  }
 },
 "nbformat": 4,
 "nbformat_minor": 2
}
