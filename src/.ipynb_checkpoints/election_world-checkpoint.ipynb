{
 "cells": [
  {
   "cell_type": "code",
   "execution_count": 1,
   "metadata": {},
   "outputs": [],
   "source": [
    "%matplotlib inline\n",
    "\n",
    "import pandas as pd\n",
    "import matplotlib.pyplot as plt\n",
    "import numpy as np\n",
    "import plotly\n",
    "import plotly.plotly as py\n",
    "import plotly.graph_objs as go\n",
    "# from plotly.offline import download_plotlyjs, init_notebook_mode, plot, iplot\n",
    "import plotly.figure_factory as ff\n",
    "import cufflinks as cf\n",
    "import datetime as dt\n"
   ]
  },
  {
   "cell_type": "code",
   "execution_count": 23,
   "metadata": {},
   "outputs": [],
   "source": [
    "# # For Notebooks\n",
    "# init_notebook_mode(connected=True)"
   ]
  },
  {
   "cell_type": "code",
   "execution_count": 2,
   "metadata": {},
   "outputs": [],
   "source": [
    "election = pd.read_csv('~/Data/Politiek/view_election.csv')"
   ]
  },
  {
   "cell_type": "code",
   "execution_count": 9,
   "metadata": {},
   "outputs": [],
   "source": [
    "# # only keep election data after 1945\n",
    "# dutch_small = dutch_small[(dutch_small['election_date'] > '1945-01-01')]"
   ]
  },
  {
   "cell_type": "code",
   "execution_count": null,
   "metadata": {},
   "outputs": [],
   "source": [
    "# dutch_1945 = dutch_small[(dutch_small['election_id']== 182)]\n",
    "# dutch_1945"
   ]
  },
  {
   "cell_type": "code",
   "execution_count": null,
   "metadata": {},
   "outputs": [],
   "source": [
    "# dutch_1945.iplot(kind='bar', x='party_name_short',y='vote_share')"
   ]
  },
  {
   "cell_type": "code",
   "execution_count": null,
   "metadata": {},
   "outputs": [],
   "source": [
    "# # drop the NaN (blanco and votes on party's that didn't reach the electoral quota )\n",
    "# # ATTENTION: this is risky, because we are weighting it later (needs to add up to 10)\n",
    "# dutch_1945 = dutch_1945.dropna()\n",
    "# dutch_1945"
   ]
  },
  {
   "cell_type": "code",
   "execution_count": null,
   "metadata": {},
   "outputs": [],
   "source": [
    "# # weighed scores. First normalize and then multiply\n",
    "# (dutch_1945['vote_share'] / 100) * (dutch_1945['left_right'] / 10)\n",
    "# # add weighted_left_right column. \n",
    "# dutch_1945[\"left_right_weighted\"] = (dutch_1945['vote_share'] / 100) * (dutch_1945['left_right'] / 10)\n",
    "# dutch_1945['left_right_weighted'].sum() / dutch_1945['vote_share'].sum() * 100"
   ]
  },
  {
   "cell_type": "code",
   "execution_count": null,
   "metadata": {},
   "outputs": [],
   "source": []
  },
  {
   "cell_type": "code",
   "execution_count": null,
   "metadata": {},
   "outputs": [],
   "source": [
    "# # add column left_right_weighted\n",
    "# dutch_1945['left_right_weighted'] = (dutch_1945['vote_share'] * dutch_1945['left_right'])"
   ]
  },
  {
   "cell_type": "code",
   "execution_count": null,
   "metadata": {},
   "outputs": [],
   "source": [
    "# # calcultate the total parliamental_left_right score (answering the question: how left or right was the parliament)\n",
    "# parliamental_left_right_score = (dutch_1945['left_right_weighted'].sum() / dutch_1945['vote_share'].sum())\n",
    "# parliamental_left_right_score"
   ]
  },
  {
   "cell_type": "code",
   "execution_count": 21,
   "metadata": {},
   "outputs": [],
   "source": [
    "# # add a column with the total parliamental score of the left_right distribution. \n",
    "# dutch_1945.loc[dutch_1945['election_id'] == 182, 'parliamental_left_right_score'] = parliamental_left_right_score"
   ]
  },
  {
   "cell_type": "code",
   "execution_count": null,
   "metadata": {},
   "outputs": [],
   "source": [
    "# dutch_1945"
   ]
  },
  {
   "cell_type": "code",
   "execution_count": 3,
   "metadata": {},
   "outputs": [],
   "source": [
    "election = election.dropna()\n",
    "election['left_right_weighted'] = (election['vote_share'] * election['left_right'])"
   ]
  },
  {
   "cell_type": "code",
   "execution_count": null,
   "metadata": {},
   "outputs": [],
   "source": [
    "# parliamental_left_right_score = (dutch_small['left_right_weighted'].sum() / dutch_small['vote_share'].sum())"
   ]
  },
  {
   "cell_type": "code",
   "execution_count": null,
   "metadata": {},
   "outputs": [],
   "source": [
    "# adding the parliamental_left_right_score column for one election by election_id\n",
    "# dutch_small.loc[dutch_small['election_id'] == 182, 'parliamental_left_right_score'] = parliamental_left_right_score"
   ]
  },
  {
   "cell_type": "code",
   "execution_count": 4,
   "metadata": {},
   "outputs": [],
   "source": [
    "# grouby by election & left right and election & vote_share (TEDIOUS)\n",
    "election_by_election_left_right = election.groupby('election_id')['left_right_weighted'].sum()\n",
    "election_by_election_vote = election.groupby('election_id')['vote_share'].sum()"
   ]
  },
  {
   "cell_type": "code",
   "execution_count": 23,
   "metadata": {},
   "outputs": [],
   "source": [
    "# # Devide the two to get the partliamental_left_right_score per election\n",
    "# dutch_small['parliamental_left_right_score_by_election'] = dutch_small_by_election_left_right / dutch_small_by_election_vote\n"
   ]
  },
  {
   "cell_type": "code",
   "execution_count": 5,
   "metadata": {},
   "outputs": [],
   "source": [
    "par_left_right = (election_by_election_left_right / election_by_election_vote).rename(\"par_left_right\").reset_index()\n",
    "election = election.merge(par_left_right)"
   ]
  },
  {
   "cell_type": "markdown",
   "metadata": {},
   "source": [
    "proberen met transform?"
   ]
  },
  {
   "cell_type": "code",
   "execution_count": null,
   "metadata": {},
   "outputs": [],
   "source": [
    "# # !NOT READY! cleaner with transform\n",
    "# dutch_small = dutch_small.groupby('election_id')['left_right_weighted'].transform('sum')\n",
    "# dutch_small[\"parliamental_left_right\"] = "
   ]
  },
  {
   "cell_type": "markdown",
   "metadata": {},
   "source": [
    "Authoritarianism in de mix"
   ]
  },
  {
   "cell_type": "code",
   "execution_count": 7,
   "metadata": {},
   "outputs": [],
   "source": [
    "# herefore we need the party dataset\n",
    "party = pd.read_csv('~/Data/Politiek/view_party.csv')"
   ]
  },
  {
   "cell_type": "code",
   "execution_count": null,
   "metadata": {},
   "outputs": [],
   "source": [
    "# # only The Netherlands\n",
    "# party_dutch = party[party['country_name'] == 'Netherlands']"
   ]
  },
  {
   "cell_type": "code",
   "execution_count": 8,
   "metadata": {},
   "outputs": [],
   "source": [
    "# get the libery_authority value from the party dataset and copy it to the dutch_small dataset for all the parties in that set\n",
    "election = pd.merge(election, party[['party_id','liberty_authority']], on='party_id')"
   ]
  },
  {
   "cell_type": "code",
   "execution_count": 9,
   "metadata": {},
   "outputs": [],
   "source": [
    "# get the data in the original order\n",
    "election = election.sort_values(by=['election_date'])\n",
    "election = election.reset_index(drop=True)"
   ]
  },
  {
   "cell_type": "code",
   "execution_count": 12,
   "metadata": {},
   "outputs": [
    {
     "data": {
      "text/html": [
       "<div>\n",
       "<style scoped>\n",
       "    .dataframe tbody tr th:only-of-type {\n",
       "        vertical-align: middle;\n",
       "    }\n",
       "\n",
       "    .dataframe tbody tr th {\n",
       "        vertical-align: top;\n",
       "    }\n",
       "\n",
       "    .dataframe thead th {\n",
       "        text-align: right;\n",
       "    }\n",
       "</style>\n",
       "<table border=\"1\" class=\"dataframe\">\n",
       "  <thead>\n",
       "    <tr style=\"text-align: right;\">\n",
       "      <th></th>\n",
       "      <th>country_name_short</th>\n",
       "      <th>country_name</th>\n",
       "      <th>election_type</th>\n",
       "      <th>election_date</th>\n",
       "      <th>vote_share</th>\n",
       "      <th>seats</th>\n",
       "      <th>seats_total</th>\n",
       "      <th>party_name_short</th>\n",
       "      <th>party_name</th>\n",
       "      <th>party_name_english</th>\n",
       "      <th>left_right</th>\n",
       "      <th>country_id</th>\n",
       "      <th>election_id</th>\n",
       "      <th>previous_parliament_election_id</th>\n",
       "      <th>previous_cabinet_id</th>\n",
       "      <th>party_id</th>\n",
       "      <th>left_right_weighted</th>\n",
       "      <th>par_left_right</th>\n",
       "      <th>liberty_authority</th>\n",
       "    </tr>\n",
       "  </thead>\n",
       "  <tbody>\n",
       "    <tr>\n",
       "      <th>0</th>\n",
       "      <td>BEL</td>\n",
       "      <td>Belgium</td>\n",
       "      <td>parliament</td>\n",
       "      <td>1902-05-25</td>\n",
       "      <td>56.00</td>\n",
       "      <td>54.0</td>\n",
       "      <td>85</td>\n",
       "      <td>KP-PC</td>\n",
       "      <td>Katholieke Partij – Parti catholique</td>\n",
       "      <td>Catholic Party</td>\n",
       "      <td>6.2</td>\n",
       "      <td>64</td>\n",
       "      <td>869</td>\n",
       "      <td>868.0</td>\n",
       "      <td>1374.0</td>\n",
       "      <td>2423</td>\n",
       "      <td>347.20</td>\n",
       "      <td>5.707911</td>\n",
       "      <td>7.2</td>\n",
       "    </tr>\n",
       "    <tr>\n",
       "      <th>1</th>\n",
       "      <td>BEL</td>\n",
       "      <td>Belgium</td>\n",
       "      <td>parliament</td>\n",
       "      <td>1902-05-25</td>\n",
       "      <td>25.10</td>\n",
       "      <td>20.0</td>\n",
       "      <td>85</td>\n",
       "      <td>LP-PL</td>\n",
       "      <td>Liberale Partij – Parti libéral</td>\n",
       "      <td>Liberal Party</td>\n",
       "      <td>6.0</td>\n",
       "      <td>64</td>\n",
       "      <td>869</td>\n",
       "      <td>868.0</td>\n",
       "      <td>1374.0</td>\n",
       "      <td>63</td>\n",
       "      <td>150.60</td>\n",
       "      <td>5.707911</td>\n",
       "      <td>3.5</td>\n",
       "    </tr>\n",
       "    <tr>\n",
       "      <th>2</th>\n",
       "      <td>BEL</td>\n",
       "      <td>Belgium</td>\n",
       "      <td>parliament</td>\n",
       "      <td>1902-05-25</td>\n",
       "      <td>15.00</td>\n",
       "      <td>10.0</td>\n",
       "      <td>85</td>\n",
       "      <td>BWP-POB</td>\n",
       "      <td>Belgische Werkliedenpartij – Parti Ouvrier Belge</td>\n",
       "      <td>Belgian Labour Party</td>\n",
       "      <td>3.3</td>\n",
       "      <td>64</td>\n",
       "      <td>869</td>\n",
       "      <td>868.0</td>\n",
       "      <td>1374.0</td>\n",
       "      <td>2422</td>\n",
       "      <td>49.50</td>\n",
       "      <td>5.707911</td>\n",
       "      <td>3.5</td>\n",
       "    </tr>\n",
       "    <tr>\n",
       "      <th>3</th>\n",
       "      <td>BEL</td>\n",
       "      <td>Belgium</td>\n",
       "      <td>parliament</td>\n",
       "      <td>1902-05-25</td>\n",
       "      <td>2.50</td>\n",
       "      <td>1.0</td>\n",
       "      <td>85</td>\n",
       "      <td>CV</td>\n",
       "      <td>Christene Volkspartij</td>\n",
       "      <td>Christian Peoples' Party [Daens]</td>\n",
       "      <td>6.2</td>\n",
       "      <td>64</td>\n",
       "      <td>869</td>\n",
       "      <td>868.0</td>\n",
       "      <td>1374.0</td>\n",
       "      <td>2481</td>\n",
       "      <td>15.50</td>\n",
       "      <td>5.707911</td>\n",
       "      <td>7.2</td>\n",
       "    </tr>\n",
       "    <tr>\n",
       "      <th>4</th>\n",
       "      <td>DNK</td>\n",
       "      <td>Denmark</td>\n",
       "      <td>parliament</td>\n",
       "      <td>1903-06-16</td>\n",
       "      <td>7.99</td>\n",
       "      <td>12.0</td>\n",
       "      <td>114</td>\n",
       "      <td>MV</td>\n",
       "      <td>Moderate Venstre</td>\n",
       "      <td>Moderate Liberals</td>\n",
       "      <td>6.0</td>\n",
       "      <td>21</td>\n",
       "      <td>887</td>\n",
       "      <td>886.0</td>\n",
       "      <td>1365.0</td>\n",
       "      <td>2430</td>\n",
       "      <td>47.94</td>\n",
       "      <td>6.436222</td>\n",
       "      <td>3.5</td>\n",
       "    </tr>\n",
       "  </tbody>\n",
       "</table>\n",
       "</div>"
      ],
      "text/plain": [
       "  country_name_short country_name election_type election_date  vote_share  \\\n",
       "0                BEL      Belgium    parliament    1902-05-25       56.00   \n",
       "1                BEL      Belgium    parliament    1902-05-25       25.10   \n",
       "2                BEL      Belgium    parliament    1902-05-25       15.00   \n",
       "3                BEL      Belgium    parliament    1902-05-25        2.50   \n",
       "4                DNK      Denmark    parliament    1903-06-16        7.99   \n",
       "\n",
       "   seats  seats_total party_name_short  \\\n",
       "0   54.0           85            KP-PC   \n",
       "1   20.0           85            LP-PL   \n",
       "2   10.0           85          BWP-POB   \n",
       "3    1.0           85               CV   \n",
       "4   12.0          114               MV   \n",
       "\n",
       "                                         party_name  \\\n",
       "0              Katholieke Partij – Parti catholique   \n",
       "1                   Liberale Partij – Parti libéral   \n",
       "2  Belgische Werkliedenpartij – Parti Ouvrier Belge   \n",
       "3                             Christene Volkspartij   \n",
       "4                                  Moderate Venstre   \n",
       "\n",
       "                 party_name_english  left_right  country_id  election_id  \\\n",
       "0                    Catholic Party         6.2          64          869   \n",
       "1                     Liberal Party         6.0          64          869   \n",
       "2              Belgian Labour Party         3.3          64          869   \n",
       "3  Christian Peoples' Party [Daens]         6.2          64          869   \n",
       "4                Moderate Liberals          6.0          21          887   \n",
       "\n",
       "   previous_parliament_election_id  previous_cabinet_id  party_id  \\\n",
       "0                            868.0               1374.0      2423   \n",
       "1                            868.0               1374.0        63   \n",
       "2                            868.0               1374.0      2422   \n",
       "3                            868.0               1374.0      2481   \n",
       "4                            886.0               1365.0      2430   \n",
       "\n",
       "   left_right_weighted  par_left_right  liberty_authority  \n",
       "0               347.20        5.707911                7.2  \n",
       "1               150.60        5.707911                3.5  \n",
       "2                49.50        5.707911                3.5  \n",
       "3                15.50        5.707911                7.2  \n",
       "4                47.94        6.436222                3.5  "
      ]
     },
     "execution_count": 12,
     "metadata": {},
     "output_type": "execute_result"
    }
   ],
   "source": [
    "election.head()"
   ]
  },
  {
   "cell_type": "code",
   "execution_count": 10,
   "metadata": {},
   "outputs": [],
   "source": [
    "# calculate the weighed libery_authority per row\n",
    "election['liberty_authority_weighted'] = (election['vote_share'] * election['liberty_authority'])"
   ]
  },
  {
   "cell_type": "code",
   "execution_count": 11,
   "metadata": {},
   "outputs": [],
   "source": [
    "# groupby by election & liberty_authority and election & vote_share \n",
    "election_by_election_libery_authority = election.groupby('election_id')['liberty_authority_weighted'].sum()\n",
    "election_by_election_vote = election.groupby('election_id')['vote_share'].sum()"
   ]
  },
  {
   "cell_type": "code",
   "execution_count": 12,
   "metadata": {},
   "outputs": [],
   "source": [
    "# add the column for the parlementairy score. For later analysis purposes, this value is noted for every row (that's why I merge)\n",
    "par_lib_auth = (election_by_election_libery_authority / election_by_election_vote).rename(\"par_lib_auth\").reset_index()\n",
    "election = election.merge(par_lib_auth)"
   ]
  },
  {
   "cell_type": "markdown",
   "metadata": {},
   "source": [
    "EU anti/pro in de mix"
   ]
  },
  {
   "cell_type": "code",
   "execution_count": 13,
   "metadata": {},
   "outputs": [],
   "source": [
    "# get the libery_authority value from the party dataset and copy it to the election dataset for all the parties in that set\n",
    "election = pd.merge(election, party[['party_id','eu_anti_pro']], on='party_id')"
   ]
  },
  {
   "cell_type": "code",
   "execution_count": 14,
   "metadata": {},
   "outputs": [],
   "source": [
    "election = election.sort_values(by=['election_date'])\n",
    "election = election.reset_index(drop=True)"
   ]
  },
  {
   "cell_type": "code",
   "execution_count": 15,
   "metadata": {},
   "outputs": [],
   "source": [
    "election['eu_anti_pro_weighted'] = (election['vote_share'] * election['eu_anti_pro'])"
   ]
  },
  {
   "cell_type": "code",
   "execution_count": 16,
   "metadata": {},
   "outputs": [],
   "source": [
    "election_by_election_eu_anti_pro = election.groupby('election_id')['eu_anti_pro_weighted'].sum()\n",
    "election_by_election_vote = election.groupby('election_id')['vote_share'].sum()"
   ]
  },
  {
   "cell_type": "code",
   "execution_count": 17,
   "metadata": {},
   "outputs": [],
   "source": [
    "par_eu = (election_by_election_eu_anti_pro / election_by_election_vote).rename(\"par_eu\").reset_index()\n",
    "election = election.merge(par_eu)"
   ]
  },
  {
   "cell_type": "code",
   "execution_count": 22,
   "metadata": {},
   "outputs": [
    {
     "data": {
      "text/html": [
       "<div>\n",
       "<style scoped>\n",
       "    .dataframe tbody tr th:only-of-type {\n",
       "        vertical-align: middle;\n",
       "    }\n",
       "\n",
       "    .dataframe tbody tr th {\n",
       "        vertical-align: top;\n",
       "    }\n",
       "\n",
       "    .dataframe thead th {\n",
       "        text-align: right;\n",
       "    }\n",
       "</style>\n",
       "<table border=\"1\" class=\"dataframe\">\n",
       "  <thead>\n",
       "    <tr style=\"text-align: right;\">\n",
       "      <th></th>\n",
       "      <th>country_name_short</th>\n",
       "      <th>country_name</th>\n",
       "      <th>election_type</th>\n",
       "      <th>election_date</th>\n",
       "      <th>vote_share</th>\n",
       "      <th>seats</th>\n",
       "      <th>seats_total</th>\n",
       "      <th>party_name_short</th>\n",
       "      <th>party_name</th>\n",
       "      <th>party_name_english</th>\n",
       "      <th>...</th>\n",
       "      <th>previous_cabinet_id</th>\n",
       "      <th>party_id</th>\n",
       "      <th>left_right_weighted</th>\n",
       "      <th>par_left_right</th>\n",
       "      <th>liberty_authority</th>\n",
       "      <th>liberty_authority_weighted</th>\n",
       "      <th>par_lib_auth</th>\n",
       "      <th>eu_anti_pro</th>\n",
       "      <th>eu_anti_pro_weighted</th>\n",
       "      <th>par_eu</th>\n",
       "    </tr>\n",
       "  </thead>\n",
       "  <tbody>\n",
       "    <tr>\n",
       "      <th>0</th>\n",
       "      <td>BEL</td>\n",
       "      <td>Belgium</td>\n",
       "      <td>parliament</td>\n",
       "      <td>1902-05-25</td>\n",
       "      <td>56.0</td>\n",
       "      <td>54.0</td>\n",
       "      <td>85</td>\n",
       "      <td>KP-PC</td>\n",
       "      <td>Katholieke Partij – Parti catholique</td>\n",
       "      <td>Catholic Party</td>\n",
       "      <td>...</td>\n",
       "      <td>1374.0</td>\n",
       "      <td>2423</td>\n",
       "      <td>347.2</td>\n",
       "      <td>5.707911</td>\n",
       "      <td>7.2</td>\n",
       "      <td>403.20</td>\n",
       "      <td>5.695233</td>\n",
       "      <td>8.3</td>\n",
       "      <td>464.80</td>\n",
       "      <td>8.371400</td>\n",
       "    </tr>\n",
       "    <tr>\n",
       "      <th>1</th>\n",
       "      <td>BEL</td>\n",
       "      <td>Belgium</td>\n",
       "      <td>parliament</td>\n",
       "      <td>1902-05-25</td>\n",
       "      <td>25.1</td>\n",
       "      <td>20.0</td>\n",
       "      <td>85</td>\n",
       "      <td>LP-PL</td>\n",
       "      <td>Liberale Partij – Parti libéral</td>\n",
       "      <td>Liberal Party</td>\n",
       "      <td>...</td>\n",
       "      <td>1374.0</td>\n",
       "      <td>63</td>\n",
       "      <td>150.6</td>\n",
       "      <td>5.707911</td>\n",
       "      <td>3.5</td>\n",
       "      <td>87.85</td>\n",
       "      <td>5.695233</td>\n",
       "      <td>8.7</td>\n",
       "      <td>218.37</td>\n",
       "      <td>8.371400</td>\n",
       "    </tr>\n",
       "    <tr>\n",
       "      <th>2</th>\n",
       "      <td>BEL</td>\n",
       "      <td>Belgium</td>\n",
       "      <td>parliament</td>\n",
       "      <td>1902-05-25</td>\n",
       "      <td>15.0</td>\n",
       "      <td>10.0</td>\n",
       "      <td>85</td>\n",
       "      <td>BWP-POB</td>\n",
       "      <td>Belgische Werkliedenpartij – Parti Ouvrier Belge</td>\n",
       "      <td>Belgian Labour Party</td>\n",
       "      <td>...</td>\n",
       "      <td>1374.0</td>\n",
       "      <td>2422</td>\n",
       "      <td>49.5</td>\n",
       "      <td>5.707911</td>\n",
       "      <td>3.5</td>\n",
       "      <td>52.50</td>\n",
       "      <td>5.695233</td>\n",
       "      <td>8.1</td>\n",
       "      <td>121.50</td>\n",
       "      <td>8.371400</td>\n",
       "    </tr>\n",
       "    <tr>\n",
       "      <th>3</th>\n",
       "      <td>BEL</td>\n",
       "      <td>Belgium</td>\n",
       "      <td>parliament</td>\n",
       "      <td>1902-05-25</td>\n",
       "      <td>2.5</td>\n",
       "      <td>1.0</td>\n",
       "      <td>85</td>\n",
       "      <td>CV</td>\n",
       "      <td>Christene Volkspartij</td>\n",
       "      <td>Christian Peoples' Party [Daens]</td>\n",
       "      <td>...</td>\n",
       "      <td>1374.0</td>\n",
       "      <td>2481</td>\n",
       "      <td>15.5</td>\n",
       "      <td>5.707911</td>\n",
       "      <td>7.2</td>\n",
       "      <td>18.00</td>\n",
       "      <td>5.695233</td>\n",
       "      <td>8.3</td>\n",
       "      <td>20.75</td>\n",
       "      <td>8.371400</td>\n",
       "    </tr>\n",
       "    <tr>\n",
       "      <th>4</th>\n",
       "      <td>BEL</td>\n",
       "      <td>Belgium</td>\n",
       "      <td>parliament</td>\n",
       "      <td>1904-05-29</td>\n",
       "      <td>43.5</td>\n",
       "      <td>38.0</td>\n",
       "      <td>81</td>\n",
       "      <td>KP-PC</td>\n",
       "      <td>Katholieke Partij – Parti catholique</td>\n",
       "      <td>Catholic Party</td>\n",
       "      <td>...</td>\n",
       "      <td>1376.0</td>\n",
       "      <td>2423</td>\n",
       "      <td>269.7</td>\n",
       "      <td>5.368163</td>\n",
       "      <td>7.2</td>\n",
       "      <td>313.20</td>\n",
       "      <td>5.233657</td>\n",
       "      <td>8.3</td>\n",
       "      <td>361.05</td>\n",
       "      <td>8.351345</td>\n",
       "    </tr>\n",
       "  </tbody>\n",
       "</table>\n",
       "<p>5 rows × 24 columns</p>\n",
       "</div>"
      ],
      "text/plain": [
       "  country_name_short country_name election_type election_date  vote_share  \\\n",
       "0                BEL      Belgium    parliament    1902-05-25        56.0   \n",
       "1                BEL      Belgium    parliament    1902-05-25        25.1   \n",
       "2                BEL      Belgium    parliament    1902-05-25        15.0   \n",
       "3                BEL      Belgium    parliament    1902-05-25         2.5   \n",
       "4                BEL      Belgium    parliament    1904-05-29        43.5   \n",
       "\n",
       "   seats  seats_total party_name_short  \\\n",
       "0   54.0           85            KP-PC   \n",
       "1   20.0           85            LP-PL   \n",
       "2   10.0           85          BWP-POB   \n",
       "3    1.0           85               CV   \n",
       "4   38.0           81            KP-PC   \n",
       "\n",
       "                                         party_name  \\\n",
       "0              Katholieke Partij – Parti catholique   \n",
       "1                   Liberale Partij – Parti libéral   \n",
       "2  Belgische Werkliedenpartij – Parti Ouvrier Belge   \n",
       "3                             Christene Volkspartij   \n",
       "4              Katholieke Partij – Parti catholique   \n",
       "\n",
       "                 party_name_english  ...  previous_cabinet_id  party_id  \\\n",
       "0                    Catholic Party  ...               1374.0      2423   \n",
       "1                     Liberal Party  ...               1374.0        63   \n",
       "2              Belgian Labour Party  ...               1374.0      2422   \n",
       "3  Christian Peoples' Party [Daens]  ...               1374.0      2481   \n",
       "4                    Catholic Party  ...               1376.0      2423   \n",
       "\n",
       "   left_right_weighted  par_left_right  liberty_authority  \\\n",
       "0                347.2        5.707911                7.2   \n",
       "1                150.6        5.707911                3.5   \n",
       "2                 49.5        5.707911                3.5   \n",
       "3                 15.5        5.707911                7.2   \n",
       "4                269.7        5.368163                7.2   \n",
       "\n",
       "   liberty_authority_weighted  par_lib_auth  eu_anti_pro  \\\n",
       "0                      403.20      5.695233          8.3   \n",
       "1                       87.85      5.695233          8.7   \n",
       "2                       52.50      5.695233          8.1   \n",
       "3                       18.00      5.695233          8.3   \n",
       "4                      313.20      5.233657          8.3   \n",
       "\n",
       "   eu_anti_pro_weighted    par_eu  \n",
       "0                464.80  8.371400  \n",
       "1                218.37  8.371400  \n",
       "2                121.50  8.371400  \n",
       "3                 20.75  8.371400  \n",
       "4                361.05  8.351345  \n",
       "\n",
       "[5 rows x 24 columns]"
      ]
     },
     "execution_count": 22,
     "metadata": {},
     "output_type": "execute_result"
    }
   ],
   "source": [
    "election.head()"
   ]
  },
  {
   "cell_type": "code",
   "execution_count": null,
   "metadata": {},
   "outputs": [],
   "source": []
  },
  {
   "cell_type": "code",
   "execution_count": null,
   "metadata": {},
   "outputs": [],
   "source": []
  },
  {
   "cell_type": "code",
   "execution_count": null,
   "metadata": {},
   "outputs": [],
   "source": []
  },
  {
   "cell_type": "code",
   "execution_count": null,
   "metadata": {},
   "outputs": [],
   "source": []
  },
  {
   "cell_type": "code",
   "execution_count": null,
   "metadata": {},
   "outputs": [],
   "source": []
  },
  {
   "cell_type": "code",
   "execution_count": null,
   "metadata": {},
   "outputs": [],
   "source": []
  },
  {
   "cell_type": "code",
   "execution_count": null,
   "metadata": {},
   "outputs": [],
   "source": []
  },
  {
   "cell_type": "code",
   "execution_count": null,
   "metadata": {},
   "outputs": [],
   "source": []
  },
  {
   "cell_type": "code",
   "execution_count": null,
   "metadata": {},
   "outputs": [],
   "source": []
  },
  {
   "cell_type": "code",
   "execution_count": null,
   "metadata": {},
   "outputs": [],
   "source": []
  },
  {
   "cell_type": "code",
   "execution_count": null,
   "metadata": {},
   "outputs": [],
   "source": []
  }
 ],
 "metadata": {
  "kernelspec": {
   "display_name": "Python 3",
   "language": "python",
   "name": "python3"
  },
  "language_info": {
   "codemirror_mode": {
    "name": "ipython",
    "version": 3
   },
   "file_extension": ".py",
   "mimetype": "text/x-python",
   "name": "python",
   "nbconvert_exporter": "python",
   "pygments_lexer": "ipython3",
   "version": "3.6.7"
  }
 },
 "nbformat": 4,
 "nbformat_minor": 2
}
