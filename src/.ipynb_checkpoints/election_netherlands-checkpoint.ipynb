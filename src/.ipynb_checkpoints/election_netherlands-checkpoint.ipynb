{
 "cells": [
  {
   "cell_type": "code",
   "execution_count": 1,
   "metadata": {},
   "outputs": [],
   "source": [
    "%matplotlib inline\n",
    "\n",
    "import pandas as pd\n",
    "import matplotlib.pyplot as plt\n",
    "import numpy as np\n",
    "import plotly\n",
    "import plotly.plotly as py\n",
    "import plotly.graph_objs as go\n",
    "# from plotly.offline import download_plotlyjs, init_notebook_mode, plot, iplot\n",
    "import plotly.figure_factory as ff\n",
    "import cufflinks as cf\n",
    "import datetime as dt\n"
   ]
  },
  {
   "cell_type": "code",
   "execution_count": 2,
   "metadata": {},
   "outputs": [
    {
     "ename": "NameError",
     "evalue": "name 'init_notebook_mode' is not defined",
     "output_type": "error",
     "traceback": [
      "\u001b[0;31m---------------------------------------------------------------------------\u001b[0m",
      "\u001b[0;31mNameError\u001b[0m                                 Traceback (most recent call last)",
      "\u001b[0;32m<ipython-input-2-ecf4579cc67c>\u001b[0m in \u001b[0;36m<module>\u001b[0;34m\u001b[0m\n\u001b[1;32m      1\u001b[0m \u001b[0;31m# For Notebooks\u001b[0m\u001b[0;34m\u001b[0m\u001b[0;34m\u001b[0m\u001b[0;34m\u001b[0m\u001b[0m\n\u001b[0;32m----> 2\u001b[0;31m \u001b[0minit_notebook_mode\u001b[0m\u001b[0;34m(\u001b[0m\u001b[0mconnected\u001b[0m\u001b[0;34m=\u001b[0m\u001b[0;32mTrue\u001b[0m\u001b[0;34m)\u001b[0m\u001b[0;34m\u001b[0m\u001b[0;34m\u001b[0m\u001b[0m\n\u001b[0m",
      "\u001b[0;31mNameError\u001b[0m: name 'init_notebook_mode' is not defined"
     ]
    }
   ],
   "source": [
    "# For Notebooks\n",
    "init_notebook_mode(connected=True)"
   ]
  },
  {
   "cell_type": "code",
   "execution_count": 30,
   "metadata": {},
   "outputs": [],
   "source": [
    "election = pd.read_csv('~/Data/Politiek/view_election.csv')"
   ]
  },
  {
   "cell_type": "code",
   "execution_count": 4,
   "metadata": {},
   "outputs": [],
   "source": [
    "dutch = election[election['country_name'] == 'Netherlands']"
   ]
  },
  {
   "cell_type": "code",
   "execution_count": 5,
   "metadata": {},
   "outputs": [],
   "source": [
    "# Just one country (The Netherlands)\n",
    "dutch_small = dutch[['election_date','election_type','vote_share','party_name_short','left_right','election_id','party_id']]\n",
    "\n"
   ]
  },
  {
   "cell_type": "markdown",
   "metadata": {},
   "source": [
    "Only looking > 1945"
   ]
  },
  {
   "cell_type": "code",
   "execution_count": 9,
   "metadata": {},
   "outputs": [],
   "source": [
    "# only keep election data after 1945\n",
    "dutch_small = dutch_small[(dutch_small['election_date'] > '1945-01-01')]"
   ]
  },
  {
   "cell_type": "code",
   "execution_count": null,
   "metadata": {},
   "outputs": [],
   "source": [
    "dutch_1945 = dutch_small[(dutch_small['election_id']== 182)]\n",
    "dutch_1945"
   ]
  },
  {
   "cell_type": "code",
   "execution_count": null,
   "metadata": {},
   "outputs": [],
   "source": [
    "dutch_1945.iplot(kind='bar', x='party_name_short',y='vote_share')"
   ]
  },
  {
   "cell_type": "code",
   "execution_count": null,
   "metadata": {},
   "outputs": [],
   "source": [
    "# drop the NaN (blanco and votes on party's that didn't reach the electoral quota )\n",
    "# ATTENTION: this is risky, because we are weighting it later (needs to add up to 10)\n",
    "dutch_1945 = dutch_1945.dropna()\n",
    "dutch_1945"
   ]
  },
  {
   "cell_type": "code",
   "execution_count": null,
   "metadata": {},
   "outputs": [],
   "source": [
    "# # weighed scores. First normalize and then multiply\n",
    "# (dutch_1945['vote_share'] / 100) * (dutch_1945['left_right'] / 10)\n",
    "# # add weighted_left_right column. \n",
    "# dutch_1945[\"left_right_weighted\"] = (dutch_1945['vote_share'] / 100) * (dutch_1945['left_right'] / 10)\n",
    "# dutch_1945['left_right_weighted'].sum() / dutch_1945['vote_share'].sum() * 100"
   ]
  },
  {
   "cell_type": "code",
   "execution_count": null,
   "metadata": {},
   "outputs": [],
   "source": []
  },
  {
   "cell_type": "code",
   "execution_count": null,
   "metadata": {},
   "outputs": [],
   "source": [
    "# add column left_right_weighted\n",
    "dutch_1945['left_right_weighted'] = (dutch_1945['vote_share'] * dutch_1945['left_right'])"
   ]
  },
  {
   "cell_type": "code",
   "execution_count": null,
   "metadata": {},
   "outputs": [],
   "source": [
    "# calcultate the total parliamental_left_right score (answering the question: how left or right was the parliament)\n",
    "parliamental_left_right_score = (dutch_1945['left_right_weighted'].sum() / dutch_1945['vote_share'].sum())\n",
    "parliamental_left_right_score"
   ]
  },
  {
   "cell_type": "code",
   "execution_count": 21,
   "metadata": {},
   "outputs": [],
   "source": [
    "# add a column with the total parliamental score of the left_right distribution. \n",
    "dutch_1945.loc[dutch_1945['election_id'] == 182, 'parliamental_left_right_score'] = parliamental_left_right_score"
   ]
  },
  {
   "cell_type": "code",
   "execution_count": null,
   "metadata": {},
   "outputs": [],
   "source": [
    "dutch_1945"
   ]
  },
  {
   "cell_type": "markdown",
   "metadata": {},
   "source": [
    "Looking at all the elections for The Netherlands"
   ]
  },
  {
   "cell_type": "code",
   "execution_count": 6,
   "metadata": {},
   "outputs": [],
   "source": [
    "dutch_small = dutch_small.dropna()\n",
    "dutch_small['left_right_weighted'] = (dutch_small['vote_share'] * dutch_small['left_right'])"
   ]
  },
  {
   "cell_type": "code",
   "execution_count": null,
   "metadata": {},
   "outputs": [],
   "source": [
    "# parliamental_left_right_score = (dutch_small['left_right_weighted'].sum() / dutch_small['vote_share'].sum())"
   ]
  },
  {
   "cell_type": "code",
   "execution_count": null,
   "metadata": {},
   "outputs": [],
   "source": [
    "# adding the parliamental_left_right_score column for one election by election_id\n",
    "# dutch_small.loc[dutch_small['election_id'] == 182, 'parliamental_left_right_score'] = parliamental_left_right_score"
   ]
  },
  {
   "cell_type": "code",
   "execution_count": 7,
   "metadata": {},
   "outputs": [],
   "source": [
    "# grouby by election & left right and election & vote_share (TEDIOUS)\n",
    "dutch_small_by_election_left_right = dutch_small.groupby('election_id')['left_right_weighted'].sum()\n",
    "dutch_small_by_election_vote = dutch_small.groupby('election_id')['vote_share'].sum()"
   ]
  },
  {
   "cell_type": "code",
   "execution_count": 23,
   "metadata": {},
   "outputs": [],
   "source": [
    "# # Devide the two to get the partliamental_left_right_score per election\n",
    "# dutch_small['parliamental_left_right_score_by_election'] = dutch_small_by_election_left_right / dutch_small_by_election_vote\n"
   ]
  },
  {
   "cell_type": "code",
   "execution_count": 8,
   "metadata": {},
   "outputs": [],
   "source": [
    "par_left_right = (dutch_small_by_election_left_right / dutch_small_by_election_vote).rename(\"par_left_right\").reset_index()\n",
    "dutch_small = dutch_small.merge(par_left_right)"
   ]
  },
  {
   "cell_type": "markdown",
   "metadata": {},
   "source": [
    "proberen met transform?"
   ]
  },
  {
   "cell_type": "code",
   "execution_count": null,
   "metadata": {},
   "outputs": [],
   "source": [
    "# !NOT READY! cleaner with transform\n",
    "dutch_small = dutch_small.groupby('election_id')['left_right_weighted'].transform('sum')\n",
    "dutch_smalll[\"parliamental_left_right\"] = "
   ]
  },
  {
   "cell_type": "markdown",
   "metadata": {},
   "source": [
    "Authoritarianism in de mix"
   ]
  },
  {
   "cell_type": "code",
   "execution_count": 10,
   "metadata": {},
   "outputs": [],
   "source": [
    "# herefore we need the party dataset\n",
    "party = pd.read_csv('~/Data/view_party.csv')"
   ]
  },
  {
   "cell_type": "code",
   "execution_count": 11,
   "metadata": {},
   "outputs": [],
   "source": [
    "# only The Netherlands\n",
    "party_dutch = party[party['country_name'] == 'Netherlands']"
   ]
  },
  {
   "cell_type": "code",
   "execution_count": 12,
   "metadata": {},
   "outputs": [],
   "source": [
    "# get the libery_authority value from the party dataset and copy it to the dutch_small dataset for all the parties in that set\n",
    "dutch_small = pd.merge(dutch_small, party_dutch[['party_id','liberty_authority']], on='party_id')"
   ]
  },
  {
   "cell_type": "code",
   "execution_count": 14,
   "metadata": {},
   "outputs": [],
   "source": [
    "# get the data in the original order\n",
    "dutch_small = dutch_small.sort_values(by=['election_date'])\n",
    "dutch_small = dutch_small.reset_index(drop=True)"
   ]
  },
  {
   "cell_type": "code",
   "execution_count": 122,
   "metadata": {},
   "outputs": [
    {
     "data": {
      "text/html": [
       "<div>\n",
       "<style scoped>\n",
       "    .dataframe tbody tr th:only-of-type {\n",
       "        vertical-align: middle;\n",
       "    }\n",
       "\n",
       "    .dataframe tbody tr th {\n",
       "        vertical-align: top;\n",
       "    }\n",
       "\n",
       "    .dataframe thead th {\n",
       "        text-align: right;\n",
       "    }\n",
       "</style>\n",
       "<table border=\"1\" class=\"dataframe\">\n",
       "  <thead>\n",
       "    <tr style=\"text-align: right;\">\n",
       "      <th></th>\n",
       "      <th>election_date</th>\n",
       "      <th>election_type</th>\n",
       "      <th>vote_share</th>\n",
       "      <th>party_name_short</th>\n",
       "      <th>left_right</th>\n",
       "      <th>election_id</th>\n",
       "      <th>party_id</th>\n",
       "      <th>left_right_weighted</th>\n",
       "      <th>par_left_right</th>\n",
       "      <th>liberty_authority</th>\n",
       "    </tr>\n",
       "  </thead>\n",
       "  <tbody>\n",
       "    <tr>\n",
       "      <th>0</th>\n",
       "      <td>1918-07-03</td>\n",
       "      <td>parliament</td>\n",
       "      <td>30.0</td>\n",
       "      <td>RKP</td>\n",
       "      <td>6.2000</td>\n",
       "      <td>937</td>\n",
       "      <td>2539</td>\n",
       "      <td>186.00000</td>\n",
       "      <td>5.252832</td>\n",
       "      <td>7.2000</td>\n",
       "    </tr>\n",
       "    <tr>\n",
       "      <th>1</th>\n",
       "      <td>1918-07-03</td>\n",
       "      <td>parliament</td>\n",
       "      <td>6.5</td>\n",
       "      <td>CHU</td>\n",
       "      <td>5.8067</td>\n",
       "      <td>937</td>\n",
       "      <td>405</td>\n",
       "      <td>37.74355</td>\n",
       "      <td>5.252832</td>\n",
       "      <td>6.7724</td>\n",
       "    </tr>\n",
       "    <tr>\n",
       "      <th>2</th>\n",
       "      <td>1918-07-03</td>\n",
       "      <td>parliament</td>\n",
       "      <td>0.4</td>\n",
       "      <td>PB|NBTM</td>\n",
       "      <td>5.3000</td>\n",
       "      <td>937</td>\n",
       "      <td>2458</td>\n",
       "      <td>2.12000</td>\n",
       "      <td>5.252832</td>\n",
       "      <td>6.5000</td>\n",
       "    </tr>\n",
       "    <tr>\n",
       "      <th>3</th>\n",
       "      <td>1918-07-03</td>\n",
       "      <td>parliament</td>\n",
       "      <td>13.4</td>\n",
       "      <td>ARP</td>\n",
       "      <td>5.8067</td>\n",
       "      <td>937</td>\n",
       "      <td>300</td>\n",
       "      <td>77.80978</td>\n",
       "      <td>5.252832</td>\n",
       "      <td>6.7724</td>\n",
       "    </tr>\n",
       "    <tr>\n",
       "      <th>4</th>\n",
       "      <td>1918-07-03</td>\n",
       "      <td>parliament</td>\n",
       "      <td>3.1</td>\n",
       "      <td>EB</td>\n",
       "      <td>6.0000</td>\n",
       "      <td>937</td>\n",
       "      <td>2457</td>\n",
       "      <td>18.60000</td>\n",
       "      <td>5.252832</td>\n",
       "      <td>3.5000</td>\n",
       "    </tr>\n",
       "  </tbody>\n",
       "</table>\n",
       "</div>"
      ],
      "text/plain": [
       "  election_date election_type  vote_share party_name_short  left_right  \\\n",
       "0    1918-07-03    parliament        30.0              RKP      6.2000   \n",
       "1    1918-07-03    parliament         6.5              CHU      5.8067   \n",
       "2    1918-07-03    parliament         0.4          PB|NBTM      5.3000   \n",
       "3    1918-07-03    parliament        13.4              ARP      5.8067   \n",
       "4    1918-07-03    parliament         3.1               EB      6.0000   \n",
       "\n",
       "   election_id  party_id  left_right_weighted  par_left_right  \\\n",
       "0          937      2539            186.00000        5.252832   \n",
       "1          937       405             37.74355        5.252832   \n",
       "2          937      2458              2.12000        5.252832   \n",
       "3          937       300             77.80978        5.252832   \n",
       "4          937      2457             18.60000        5.252832   \n",
       "\n",
       "   liberty_authority  \n",
       "0             7.2000  \n",
       "1             6.7724  \n",
       "2             6.5000  \n",
       "3             6.7724  \n",
       "4             3.5000  "
      ]
     },
     "execution_count": 122,
     "metadata": {},
     "output_type": "execute_result"
    }
   ],
   "source": [
    "dutch_small.head()"
   ]
  },
  {
   "cell_type": "code",
   "execution_count": 15,
   "metadata": {},
   "outputs": [],
   "source": [
    "# calculate the weighed libery_authority per row\n",
    "dutch_small['liberty_authority_weighted'] = (dutch_small['vote_share'] * dutch_small['liberty_authority'])"
   ]
  },
  {
   "cell_type": "code",
   "execution_count": 16,
   "metadata": {},
   "outputs": [],
   "source": [
    "# groupby by election & liberty_authority and election & vote_share \n",
    "dutch_small_by_election_libery_authority = dutch_small.groupby('election_id')['liberty_authority_weighted'].sum()\n",
    "dutch_small_by_election_vote = dutch_small.groupby('election_id')['vote_share'].sum()"
   ]
  },
  {
   "cell_type": "code",
   "execution_count": 17,
   "metadata": {},
   "outputs": [],
   "source": [
    "# add the column for the parlementairy score. For later analysis purposes, this value is noted for every row (that's why I merge)\n",
    "par_lib_auth = (dutch_small_by_election_libery_authority / dutch_small_by_election_vote).rename(\"par_lib_auth\").reset_index()\n",
    "dutch_small = dutch_small.merge(par_lib_auth)"
   ]
  },
  {
   "cell_type": "markdown",
   "metadata": {},
   "source": [
    "EU anti/pro in de mix"
   ]
  },
  {
   "cell_type": "code",
   "execution_count": 18,
   "metadata": {},
   "outputs": [],
   "source": [
    "# get the libery_authority value from the party dataset and copy it to the dutch_small dataset for all the parties in that set\n",
    "dutch_small = pd.merge(dutch_small, party_dutch[['party_id','eu_anti_pro']], on='party_id')"
   ]
  },
  {
   "cell_type": "code",
   "execution_count": 19,
   "metadata": {},
   "outputs": [],
   "source": [
    "dutch_small = dutch_small.sort_values(by=['election_date'])\n",
    "dutch_small = dutch_small.reset_index(drop=True)"
   ]
  },
  {
   "cell_type": "code",
   "execution_count": 20,
   "metadata": {},
   "outputs": [],
   "source": [
    "dutch_small['eu_anti_pro_weighted'] = (dutch_small['vote_share'] * dutch_small['eu_anti_pro'])"
   ]
  },
  {
   "cell_type": "code",
   "execution_count": 21,
   "metadata": {},
   "outputs": [],
   "source": [
    "dutch_small_by_election_eu_anti_pro = dutch_small.groupby('election_id')['eu_anti_pro_weighted'].sum()\n",
    "dutch_small_by_election_vote = dutch_small.groupby('election_id')['vote_share'].sum()"
   ]
  },
  {
   "cell_type": "code",
   "execution_count": 22,
   "metadata": {},
   "outputs": [],
   "source": [
    "par_eu = (dutch_small_by_election_eu_anti_pro / dutch_small_by_election_vote).rename(\"par_eu\").reset_index()\n",
    "dutch_small = dutch_small.merge(par_eu)"
   ]
  },
  {
   "cell_type": "code",
   "execution_count": 23,
   "metadata": {},
   "outputs": [
    {
     "data": {
      "text/html": [
       "<div>\n",
       "<style scoped>\n",
       "    .dataframe tbody tr th:only-of-type {\n",
       "        vertical-align: middle;\n",
       "    }\n",
       "\n",
       "    .dataframe tbody tr th {\n",
       "        vertical-align: top;\n",
       "    }\n",
       "\n",
       "    .dataframe thead th {\n",
       "        text-align: right;\n",
       "    }\n",
       "</style>\n",
       "<table border=\"1\" class=\"dataframe\">\n",
       "  <thead>\n",
       "    <tr style=\"text-align: right;\">\n",
       "      <th></th>\n",
       "      <th>election_date</th>\n",
       "      <th>election_type</th>\n",
       "      <th>vote_share</th>\n",
       "      <th>party_name_short</th>\n",
       "      <th>left_right</th>\n",
       "      <th>election_id</th>\n",
       "      <th>party_id</th>\n",
       "      <th>left_right_weighted</th>\n",
       "      <th>par_left_right</th>\n",
       "      <th>liberty_authority</th>\n",
       "      <th>liberty_authority_weighted</th>\n",
       "      <th>par_lib_auth</th>\n",
       "      <th>eu_anti_pro</th>\n",
       "      <th>eu_anti_pro_weighted</th>\n",
       "      <th>par_eu</th>\n",
       "    </tr>\n",
       "  </thead>\n",
       "  <tbody>\n",
       "    <tr>\n",
       "      <th>0</th>\n",
       "      <td>1918-07-03</td>\n",
       "      <td>parliament</td>\n",
       "      <td>30.0</td>\n",
       "      <td>RKP</td>\n",
       "      <td>6.2000</td>\n",
       "      <td>937</td>\n",
       "      <td>2539</td>\n",
       "      <td>186.00000</td>\n",
       "      <td>5.252832</td>\n",
       "      <td>7.2000</td>\n",
       "      <td>216.0000</td>\n",
       "      <td>5.394309</td>\n",
       "      <td>8.3000</td>\n",
       "      <td>249.0000</td>\n",
       "      <td>8.235474</td>\n",
       "    </tr>\n",
       "    <tr>\n",
       "      <th>1</th>\n",
       "      <td>1918-07-03</td>\n",
       "      <td>parliament</td>\n",
       "      <td>5.3</td>\n",
       "      <td>VDB</td>\n",
       "      <td>6.0000</td>\n",
       "      <td>937</td>\n",
       "      <td>944</td>\n",
       "      <td>31.80000</td>\n",
       "      <td>5.252832</td>\n",
       "      <td>3.5000</td>\n",
       "      <td>18.5500</td>\n",
       "      <td>5.394309</td>\n",
       "      <td>8.7000</td>\n",
       "      <td>46.1100</td>\n",
       "      <td>8.235474</td>\n",
       "    </tr>\n",
       "    <tr>\n",
       "      <th>2</th>\n",
       "      <td>1918-07-03</td>\n",
       "      <td>parliament</td>\n",
       "      <td>22.0</td>\n",
       "      <td>SDAP</td>\n",
       "      <td>3.3000</td>\n",
       "      <td>937</td>\n",
       "      <td>1451</td>\n",
       "      <td>72.60000</td>\n",
       "      <td>5.252832</td>\n",
       "      <td>3.5000</td>\n",
       "      <td>77.0000</td>\n",
       "      <td>5.394309</td>\n",
       "      <td>8.1000</td>\n",
       "      <td>178.2000</td>\n",
       "      <td>8.235474</td>\n",
       "    </tr>\n",
       "    <tr>\n",
       "      <th>3</th>\n",
       "      <td>1918-07-03</td>\n",
       "      <td>parliament</td>\n",
       "      <td>6.5</td>\n",
       "      <td>CHU</td>\n",
       "      <td>5.8067</td>\n",
       "      <td>937</td>\n",
       "      <td>405</td>\n",
       "      <td>37.74355</td>\n",
       "      <td>5.252832</td>\n",
       "      <td>6.7724</td>\n",
       "      <td>44.0206</td>\n",
       "      <td>5.394309</td>\n",
       "      <td>8.2894</td>\n",
       "      <td>53.8811</td>\n",
       "      <td>8.235474</td>\n",
       "    </tr>\n",
       "    <tr>\n",
       "      <th>4</th>\n",
       "      <td>1918-07-03</td>\n",
       "      <td>parliament</td>\n",
       "      <td>2.3</td>\n",
       "      <td>CPN</td>\n",
       "      <td>0.8000</td>\n",
       "      <td>937</td>\n",
       "      <td>1194</td>\n",
       "      <td>1.84000</td>\n",
       "      <td>5.252832</td>\n",
       "      <td>3.0000</td>\n",
       "      <td>6.9000</td>\n",
       "      <td>5.394309</td>\n",
       "      <td>5.0000</td>\n",
       "      <td>11.5000</td>\n",
       "      <td>8.235474</td>\n",
       "    </tr>\n",
       "  </tbody>\n",
       "</table>\n",
       "</div>"
      ],
      "text/plain": [
       "  election_date election_type  vote_share party_name_short  left_right  \\\n",
       "0    1918-07-03    parliament        30.0              RKP      6.2000   \n",
       "1    1918-07-03    parliament         5.3              VDB      6.0000   \n",
       "2    1918-07-03    parliament        22.0             SDAP      3.3000   \n",
       "3    1918-07-03    parliament         6.5              CHU      5.8067   \n",
       "4    1918-07-03    parliament         2.3              CPN      0.8000   \n",
       "\n",
       "   election_id  party_id  left_right_weighted  par_left_right  \\\n",
       "0          937      2539            186.00000        5.252832   \n",
       "1          937       944             31.80000        5.252832   \n",
       "2          937      1451             72.60000        5.252832   \n",
       "3          937       405             37.74355        5.252832   \n",
       "4          937      1194              1.84000        5.252832   \n",
       "\n",
       "   liberty_authority  liberty_authority_weighted  par_lib_auth  eu_anti_pro  \\\n",
       "0             7.2000                    216.0000      5.394309       8.3000   \n",
       "1             3.5000                     18.5500      5.394309       8.7000   \n",
       "2             3.5000                     77.0000      5.394309       8.1000   \n",
       "3             6.7724                     44.0206      5.394309       8.2894   \n",
       "4             3.0000                      6.9000      5.394309       5.0000   \n",
       "\n",
       "   eu_anti_pro_weighted    par_eu  \n",
       "0              249.0000  8.235474  \n",
       "1               46.1100  8.235474  \n",
       "2              178.2000  8.235474  \n",
       "3               53.8811  8.235474  \n",
       "4               11.5000  8.235474  "
      ]
     },
     "execution_count": 23,
     "metadata": {},
     "output_type": "execute_result"
    }
   ],
   "source": [
    "dutch_small.head()"
   ]
  },
  {
   "cell_type": "code",
   "execution_count": 29,
   "metadata": {},
   "outputs": [],
   "source": [
    "election.to_csv('election_netherlands.csv', sep='\\t')"
   ]
  },
  {
   "cell_type": "code",
   "execution_count": null,
   "metadata": {},
   "outputs": [],
   "source": []
  },
  {
   "cell_type": "code",
   "execution_count": null,
   "metadata": {},
   "outputs": [],
   "source": []
  },
  {
   "cell_type": "code",
   "execution_count": null,
   "metadata": {},
   "outputs": [],
   "source": []
  },
  {
   "cell_type": "code",
   "execution_count": null,
   "metadata": {},
   "outputs": [],
   "source": []
  },
  {
   "cell_type": "code",
   "execution_count": null,
   "metadata": {},
   "outputs": [],
   "source": []
  },
  {
   "cell_type": "code",
   "execution_count": null,
   "metadata": {},
   "outputs": [],
   "source": []
  },
  {
   "cell_type": "code",
   "execution_count": null,
   "metadata": {},
   "outputs": [],
   "source": []
  },
  {
   "cell_type": "code",
   "execution_count": null,
   "metadata": {},
   "outputs": [],
   "source": []
  },
  {
   "cell_type": "code",
   "execution_count": null,
   "metadata": {},
   "outputs": [],
   "source": []
  },
  {
   "cell_type": "code",
   "execution_count": null,
   "metadata": {},
   "outputs": [],
   "source": []
  }
 ],
 "metadata": {
  "kernelspec": {
   "display_name": "Python 3",
   "language": "python",
   "name": "python3"
  },
  "language_info": {
   "codemirror_mode": {
    "name": "ipython",
    "version": 3
   },
   "file_extension": ".py",
   "mimetype": "text/x-python",
   "name": "python",
   "nbconvert_exporter": "python",
   "pygments_lexer": "ipython3",
   "version": "3.6.7"
  }
 },
 "nbformat": 4,
 "nbformat_minor": 2
}
